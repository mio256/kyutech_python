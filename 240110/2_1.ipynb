{
 "cells": [
  {
   "cell_type": "code",
   "execution_count": 1,
   "metadata": {},
   "outputs": [
    {
     "name": "stdout",
     "output_type": "stream",
     "text": [
      "LP-Sample:\n",
      "MAXIMIZE\n",
      "2*x1 + 3*x2 + 0\n",
      "SUBJECT TO\n",
      "ineq1: x1 + 3 x2 <= 9\n",
      "\n",
      "ineq2: x1 + x2 <= 4\n",
      "\n",
      "ineq3: x1 + x2 <= 6\n",
      "\n",
      "VARIABLES\n",
      "x1 Continuous\n",
      "x2 Continuous\n",
      "\n",
      "Welcome to the CBC MILP Solver \n",
      "Version: 2.10.3 \n",
      "Build Date: Dec 15 2019 \n",
      "\n",
      "command line - /Users/mio256/kyutech_python/venv/lib/python3.11/site-packages/pulp/solverdir/cbc/osx/64/cbc /var/folders/95/zs_02mj13j70dkppjs9sfwy40000gn/T/11cf8e4aba1d44cc99d0aa49c7a27793-pulp.mps max timeMode elapsed branch printingOptions all solution /var/folders/95/zs_02mj13j70dkppjs9sfwy40000gn/T/11cf8e4aba1d44cc99d0aa49c7a27793-pulp.sol (default strategy 1)\n",
      "At line 2 NAME          MODEL\n",
      "At line 3 ROWS\n",
      "At line 8 COLUMNS\n",
      "At line 17 RHS\n",
      "At line 21 BOUNDS\n",
      "At line 22 ENDATA\n",
      "Problem MODEL has 3 rows, 2 columns and 6 elements\n",
      "Coin0008I MODEL read with 0 errors\n",
      "Option for timeMode changed from cpu to elapsed\n",
      "Presolve 2 (-1) rows, 2 (0) columns and 4 (-2) elements\n",
      "0  Obj -0 Dual inf 4.999998 (2)\n",
      "2  Obj 10.5\n",
      "Optimal - objective value 10.5\n",
      "After Postsolve, objective 10.5, infeasibilities - dual 0 (0), primal 0 (0)\n",
      "Optimal objective 10.5 - 2 iterations time 0.002, Presolve 0.00\n",
      "Option for printingOptions changed from normal to all\n",
      "Total time (CPU seconds):       0.00   (Wallclock seconds):       0.02\n",
      "\n",
      "Optimal\n",
      "Optimal value =  10.5\n",
      "x1 = 1.5\n",
      "x2 = 2.5\n"
     ]
    }
   ],
   "source": [
    "from pulp import LpProblem, LpVariable, LpStatus, value, LpMaximize\n",
    "\n",
    "prob = LpProblem(\"LP-Sample\", sense=LpMaximize)\n",
    "x1 = LpVariable(\"x1\", lowBound=0.0)\n",
    "x2 = LpVariable(\"x2\", lowBound=0.0)\n",
    "prob += 2*x1 + 3*x2  # 目的関数の設定\n",
    "prob += x1 + 3*x2 <= 9, \"ineq1\"\n",
    "prob += x1 + x2 <= 4, \"ineq2\"\n",
    "prob += x1 + x2 <= 6, \"ineq3\"\n",
    "print(prob)  # 問題を出力\n",
    "\n",
    "prob.solve()  # 求解\n",
    "\n",
    "# 結果を出力\n",
    "print(LpStatus[prob.status])\n",
    "print(\"Optimal value = \", value(prob.objective))\n",
    "for v in prob.variables():\n",
    "    print(v.name, \"=\", v.varValue)"
   ]
  }
 ],
 "metadata": {
  "kernelspec": {
   "display_name": "venv",
   "language": "python",
   "name": "python3"
  },
  "language_info": {
   "codemirror_mode": {
    "name": "ipython",
    "version": 3
   },
   "file_extension": ".py",
   "mimetype": "text/x-python",
   "name": "python",
   "nbconvert_exporter": "python",
   "pygments_lexer": "ipython3",
   "version": "3.11.1"
  }
 },
 "nbformat": 4,
 "nbformat_minor": 2
}
