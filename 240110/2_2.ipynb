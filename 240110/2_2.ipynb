{
 "cells": [
  {
   "cell_type": "code",
   "execution_count": 1,
   "metadata": {},
   "outputs": [
    {
     "name": "stdout",
     "output_type": "stream",
     "text": [
      "Production:\n",
      "MAXIMIZE\n",
      "150*x1 + 200*x2 + 300*x3 + 0\n",
      "SUBJECT TO\n",
      "ineq1: 3 x1 + x2 + 2 x3 <= 60\n",
      "\n",
      "ineq2: x1 + 3 x2 <= 36\n",
      "\n",
      "ineq3: 2 x2 + 4 x3 <= 48\n",
      "\n",
      "VARIABLES\n",
      "x1 Continuous\n",
      "x2 Continuous\n",
      "x3 Continuous\n",
      "\n",
      "Welcome to the CBC MILP Solver \n",
      "Version: 2.10.3 \n",
      "Build Date: Dec 15 2019 \n",
      "\n",
      "command line - /Users/mio256/kyutech_python/venv/lib/python3.11/site-packages/pulp/solverdir/cbc/osx/64/cbc /var/folders/95/zs_02mj13j70dkppjs9sfwy40000gn/T/615e8ff74b014fe8a8dedca7a7ad3391-pulp.mps max timeMode elapsed branch printingOptions all solution /var/folders/95/zs_02mj13j70dkppjs9sfwy40000gn/T/615e8ff74b014fe8a8dedca7a7ad3391-pulp.sol (default strategy 1)\n",
      "At line 2 NAME          MODEL\n",
      "At line 3 ROWS\n",
      "At line 8 COLUMNS\n",
      "At line 19 RHS\n",
      "At line 23 BOUNDS\n",
      "At line 24 ENDATA\n",
      "Problem MODEL has 3 rows, 3 columns and 7 elements\n",
      "Coin0008I MODEL read with 0 errors\n",
      "Option for timeMode changed from cpu to elapsed\n",
      "Presolve 3 (0) rows, 3 (0) columns and 7 (0) elements\n",
      "0  Obj -0 Dual inf 650 (3)\n",
      "0  Obj -0 Dual inf 650 (3)\n",
      "3  Obj 5800\n",
      "Optimal - objective value 5800\n",
      "Optimal objective 5800 - 3 iterations time 0.002\n",
      "Option for printingOptions changed from normal to all\n",
      "Total time (CPU seconds):       0.00   (Wallclock seconds):       0.02\n",
      "\n",
      "Optimal\n",
      "Optimal value =  5800.0\n",
      "x1 = 12.0\n",
      "x2 = 8.0\n",
      "x3 = 8.0\n"
     ]
    }
   ],
   "source": [
    "from pulp import *\n",
    "import numpy as np\n",
    "\n",
    "A = np.array([[3, 1, 2], [1, 3, 0], [0, 2, 4]])\n",
    "c = np.array([150, 200, 300])\n",
    "b = np.array([60, 36, 48])\n",
    "(m, n) = A.shape  # mはAの行数、nはAの列数\n",
    "prob = LpProblem(\"Production\", sense=LpMaximize)\n",
    "\n",
    "# リスト内包表記は難しいので、for文で書きます\n",
    "x = []\n",
    "for i in range(n):\n",
    "    x.append(LpVariable(\"x\" + str(i + 1), lowBound=0))\n",
    "# print(x)\n",
    "# [x1, x2, x3]\n",
    "\n",
    "prob += lpDot(c, x)\n",
    "for i in range(m):\n",
    "    prob += lpDot(A[i], x) <= b[i], \"ineq\"+str(i+1)\n",
    "print(prob)\n",
    "\n",
    "prob.solve()\n",
    "print(LpStatus[prob.status])\n",
    "print(\"Optimal value = \", value(prob.objective))\n",
    "for v in prob.variables():\n",
    "    print(v.name, \"=\", v.varValue)"
   ]
  },
  {
   "cell_type": "code",
   "execution_count": 2,
   "metadata": {},
   "outputs": [
    {
     "data": {
      "text/plain": [
       "True"
      ]
     },
     "execution_count": 2,
     "metadata": {},
     "output_type": "execute_result"
    }
   ],
   "source": [
    "X = np.array([v.varValue for v in prob.variables()])\n",
    "np.all(np.abs(b - np.dot(A, X)) <= 1.0e-5)"
   ]
  },
  {
   "cell_type": "code",
   "execution_count": null,
   "metadata": {},
   "outputs": [],
   "source": []
  }
 ],
 "metadata": {
  "kernelspec": {
   "display_name": "venv",
   "language": "python",
   "name": "python3"
  },
  "language_info": {
   "codemirror_mode": {
    "name": "ipython",
    "version": 3
   },
   "file_extension": ".py",
   "mimetype": "text/x-python",
   "name": "python",
   "nbconvert_exporter": "python",
   "pygments_lexer": "ipython3",
   "version": "3.11.1"
  }
 },
 "nbformat": 4,
 "nbformat_minor": 2
}
